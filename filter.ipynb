{
 "cells": [
  {
   "cell_type": "code",
   "execution_count": 26,
   "id": "99d7f8bd-3fee-4ce7-a858-8b09723a24f0",
   "metadata": {
    "scrolled": true
   },
   "outputs": [],
   "source": [
    "import json\n",
    "import re\n",
    "\n",
    "# 读取JSON文件，获取所有信息来源\n",
    "def load_sources(file_path):\n",
    "    with open(file_path, 'r', encoding='utf-8') as f:\n",
    "        data = json.load(f)\n",
    "    sources = []\n",
    "    for category in data.get(\"sources\", {}).values():\n",
    "        sources.extend(category)\n",
    "    return sources\n",
    "\n",
    "# 替换字符串中的来源名称为 \"资料\" 并确保不会重复出现多个“资料”\n",
    "def replace_sources_in_text(input_text, sources):\n",
    "    # 构建正则表达式模式，用于匹配所有来源名称\n",
    "    pattern = '|'.join(map(re.escape, sources))\n",
    "    \n",
    "    # 使用正则替换匹配到的来源为 \"资料\"\n",
    "    replaced_text = re.sub(pattern, '资料', input_text)\n",
    "    \n",
    "    # 合并多个连续的“资料”为一个，避免重复\n",
    "    replaced_text = re.sub(r'(资料)(\\s*和\\s*资料)+', '资料', replaced_text)\n",
    "    \n",
    "    return replaced_text\n",
    "\n",
    "# 主函数，处理输入字符串并进行替换\n",
    "def replace_text_based_on_sources(input_text, json_file_path):\n",
    "    # 加载所有来源名称\n",
    "    sources = load_sources(json_file_path)\n",
    "    \n",
    "    # 替换输入文本中的来源名称\n",
    "    output_text = replace_sources_in_text(input_text, sources)\n",
    "    \n",
    "    return output_text\n",
    "\n"
   ]
  },
  {
   "cell_type": "code",
   "execution_count": 27,
   "id": "f4a0a654-3b65-427d-8aa4-ef6b84d79405",
   "metadata": {},
   "outputs": [
    {
     "name": "stdout",
     "output_type": "stream",
     "text": [
      "这篇文章引用了资料的内容。\n"
     ]
    }
   ],
   "source": [
    "# 示例调用\n",
    "if __name__ == \"__main__\":\n",
    "    input_string = \"这篇文章引用了人民日报和腾讯新闻的内容。\"  # 输入的字符串\n",
    "    json_file = 'sources.json'  # JSON 文件路径\n",
    "\n",
    "    # 执行替换操作\n",
    "    result = replace_text_based_on_sources(input_string, json_file)\n",
    "    \n",
    "    # 输出替换后的字符串\n",
    "    print(result)\n",
    "\n"
   ]
  },
  {
   "cell_type": "code",
   "execution_count": null,
   "id": "16c3e3d4-e174-4f97-b611-3af4b77a6483",
   "metadata": {},
   "outputs": [],
   "source": []
  }
 ],
 "metadata": {
  "kernelspec": {
   "display_name": "Python 3 (ipykernel)",
   "language": "python",
   "name": "python3"
  },
  "language_info": {
   "codemirror_mode": {
    "name": "ipython",
    "version": 3
   },
   "file_extension": ".py",
   "mimetype": "text/x-python",
   "name": "python",
   "nbconvert_exporter": "python",
   "pygments_lexer": "ipython3",
   "version": "3.12.7"
  }
 },
 "nbformat": 4,
 "nbformat_minor": 5
}
